{
 "cells": [
  {
   "cell_type": "code",
   "execution_count": null,
   "id": "c4da1ce9",
   "metadata": {},
   "outputs": [],
   "source": [
    "pip install pycaret"
   ]
  },
  {
   "cell_type": "code",
   "execution_count": null,
   "id": "3335accb",
   "metadata": {},
   "outputs": [],
   "source": [
    "# read csv file\n",
    "import pandas as pd\n",
    "data = pd.read_excel('AverageTemperature.xlsx')\n",
    "data['Date'] = pd.to_datetime(data['Date'])\n",
    "data.head()"
   ]
  },
  {
   "cell_type": "code",
   "execution_count": null,
   "id": "eae57d91",
   "metadata": {},
   "outputs": [],
   "source": [
    "data.tail()"
   ]
  },
  {
   "cell_type": "code",
   "execution_count": null,
   "id": "ba77e31d",
   "metadata": {},
   "outputs": [],
   "source": [
    "data.info()"
   ]
  },
  {
   "cell_type": "code",
   "execution_count": null,
   "id": "d30deac6",
   "metadata": {},
   "outputs": [],
   "source": [
    "data.describe()"
   ]
  },
  {
   "cell_type": "code",
   "execution_count": null,
   "id": "feaff359",
   "metadata": {},
   "outputs": [],
   "source": [
    "import numpy as np\n",
    "# extract month and year from dates\n",
    "data['Month'] = [i.month for i in data['Date']]\n",
    "data['Year'] = [i.year for i in data['Date']]\n",
    "# create a sequence of numbers\n",
    "data['Series'] = np.arange(1,len(data)+1)\n",
    "# drop unnecessary columns and re-arrange\n",
    "data.drop(['Date'], axis=1, inplace=True)\n",
    "data = data[['Series', 'Year', 'Month', 'AverageTemperature']] \n",
    "# check the head of the dataset\n",
    "data.head()"
   ]
  },
  {
   "cell_type": "code",
   "execution_count": null,
   "id": "93bc140c",
   "metadata": {},
   "outputs": [],
   "source": [
    "data.tail()"
   ]
  },
  {
   "cell_type": "code",
   "execution_count": null,
   "id": "4c220c27",
   "metadata": {},
   "outputs": [],
   "source": [
    "# split data into train-test set\n",
    "train = data[data['Year'] < 2012]\n",
    "test = data[data['Year'] >= 2012]\n",
    "# check shape\n",
    "train.shape, test.shape"
   ]
  },
  {
   "cell_type": "code",
   "execution_count": null,
   "id": "96058777",
   "metadata": {},
   "outputs": [],
   "source": [
    "# import the regression module\n",
    "from pycaret.regression import *\n",
    "# initialize setup\n",
    "s = setup(data = train, test_data = test, target = 'AverageTemperature', fold_strategy = 'timeseries', numeric_features = ['Year', 'Series'], fold = 3, transform_target = True, session_id = 123)"
   ]
  },
  {
   "cell_type": "code",
   "execution_count": null,
   "id": "bb5f593f",
   "metadata": {},
   "outputs": [],
   "source": [
    "best = compare_models(sort = 'MAE')"
   ]
  },
  {
   "cell_type": "code",
   "execution_count": null,
   "id": "376575fb",
   "metadata": {},
   "outputs": [],
   "source": [
    "%matplotlib inline\n",
    "import numpy as np\n",
    "import pandas as pd\n",
    "import matplotlib.pyplot as plt\n",
    "import seaborn as sns\n",
    "import sklearn\n",
    "\n",
    "import xgboost as xgb\n",
    "\n",
    "from sklearn.model_selection import train_test_split\n",
    "from sklearn.model_selection import cross_val_score, KFold\n",
    "from sklearn.metrics import mean_squared_error\n",
    "from sklearn.metrics import mean_absolute_error\n",
    "from sklearn.metrics import r2_score"
   ]
  },
  {
   "cell_type": "code",
   "execution_count": null,
   "id": "d99d90f2",
   "metadata": {},
   "outputs": [],
   "source": [
    "X = data.loc[:,['Month', 'Year']].values\n",
    "y = data.loc[:,'AverageTemperature'].values"
   ]
  },
  {
   "cell_type": "code",
   "execution_count": null,
   "id": "6b9c41fc",
   "metadata": {},
   "outputs": [],
   "source": [
    "y"
   ]
  },
  {
   "cell_type": "code",
   "execution_count": null,
   "id": "602e4317",
   "metadata": {},
   "outputs": [],
   "source": [
    "data_dmatrix = xgb.DMatrix(X,label=y)"
   ]
  },
  {
   "cell_type": "code",
   "execution_count": null,
   "id": "127688b2",
   "metadata": {},
   "outputs": [],
   "source": [
    "data_dmatrix"
   ]
  },
  {
   "cell_type": "code",
   "execution_count": null,
   "id": "90db601b",
   "metadata": {},
   "outputs": [],
   "source": [
    "from sklearn.model_selection import train_test_split\n",
    "\n",
    "X_train, X_test, y_train, y_test = train_test_split(X, y, test_size=0.2, random_state=42)"
   ]
  },
  {
   "cell_type": "code",
   "execution_count": null,
   "id": "8dc45ab9",
   "metadata": {},
   "outputs": [],
   "source": [
    "X_train, X_test, y_train, y_test = train_test_split(X, y, test_size=0.2, random_state=5)\n",
    "print(X_train.shape)\n",
    "print(y_train.shape)\n",
    "print(X_test.shape)\n",
    "print(y_test.shape)"
   ]
  },
  {
   "cell_type": "code",
   "execution_count": null,
   "id": "e87cbe91",
   "metadata": {},
   "outputs": [],
   "source": [
    "reg_mod = xgb.XGBRegressor(\n",
    "    n_estimators=1000,\n",
    "    learning_rate=0.08,\n",
    "    subsample=0.75,\n",
    "    colsample_bytree=1, \n",
    "    max_depth=7,\n",
    "    gamma=0,\n",
    ")\n",
    "reg_mod.fit(X_train, y_train)"
   ]
  },
  {
   "cell_type": "code",
   "execution_count": null,
   "id": "113265d1",
   "metadata": {},
   "outputs": [],
   "source": [
    "#After training the model, we'll check the model training score.\n",
    "scores = cross_val_score(reg_mod, X_train, y_train,cv=10)\n",
    "print(\"Mean cross-validation score: %.2f\" % scores.mean())"
   ]
  },
  {
   "cell_type": "code",
   "execution_count": null,
   "id": "26a57d8d",
   "metadata": {},
   "outputs": [],
   "source": [
    "reg_mod.fit(X_train,y_train)\n",
    "\n",
    "predictions = reg_mod.predict(X_test)"
   ]
  },
  {
   "cell_type": "code",
   "execution_count": null,
   "id": "dc4ddc68",
   "metadata": {},
   "outputs": [],
   "source": [
    "rmse = np.sqrt(mean_squared_error(y_test, predictions))\n",
    "print(\"RMSE: %f\" % (rmse))"
   ]
  },
  {
   "cell_type": "code",
   "execution_count": null,
   "id": "29e191ad",
   "metadata": {},
   "outputs": [],
   "source": []
  }
 ],
 "metadata": {
  "kernelspec": {
   "display_name": "Python 3",
   "language": "python",
   "name": "python3"
  },
  "language_info": {
   "codemirror_mode": {
    "name": "ipython",
    "version": 3
   },
   "file_extension": ".py",
   "mimetype": "text/x-python",
   "name": "python",
   "nbconvert_exporter": "python",
   "pygments_lexer": "ipython3",
   "version": "3.8.8"
  }
 },
 "nbformat": 4,
 "nbformat_minor": 5
}
